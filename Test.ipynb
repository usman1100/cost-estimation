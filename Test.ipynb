{
 "cells": [
  {
   "cell_type": "code",
   "execution_count": 29,
   "id": "biological-million",
   "metadata": {},
   "outputs": [
    {
     "data": {
      "text/plain": [
       "[{'distance': 48.2, 'index': 97},\n",
       " {'distance': 207.3, 'index': 98},\n",
       " {'distance': 297.3, 'index': 92},\n",
       " {'distance': 314.4, 'index': 94}]"
      ]
     },
     "execution_count": 29,
     "metadata": {},
     "output_type": "execute_result"
    }
   ],
   "source": [
    "import pandas as pd\n",
    "import math\n",
    "def ManhattanDistance(point_array_1:list, point_array_2:list):\n",
    "    return sum(abs(val1-val2) for val1, val2 in zip(point_array_1,point_array_2))\n",
    "    \n",
    "def Euclidean(x:list, y:list):\n",
    "    distance = math.sqrt(sum([(a - b) ** 2 for a, b in zip(x, y)]))\n",
    "    return distance\n",
    "\n",
    "\n",
    "\n",
    "def PrintArray(arr):\n",
    "    for i in arr:\n",
    "        print(i)\n",
    "        \n",
    "def PrintManhattan(targetPoint):\n",
    "    man_dist = []\n",
    "    for i in range(l):\n",
    "        res = round(ManhattanDistance(values[i], targetPoint), 1)\n",
    "        man_dist.append({\"distance\":res, \"index\":i+1})\n",
    "        \n",
    "    return man_dist\n",
    "\n",
    "    \n",
    "    \n",
    "def PrintEuclidean(targetPoint):\n",
    "    euc_dist = []\n",
    "    for i in range(l):\n",
    "        res = round(Euclidean(values[i], targetPoint), 1)\n",
    "        euc_dist.append({\"distance\":res, \"index\":i+1})\n",
    "    return euc_dist\n",
    "\n",
    "def PrintAvg(targetPoint):\n",
    "    avg = []\n",
    "    for i in range(l):\n",
    "        m = round(ManhattanDistance(values[i], targetPoint), 1)\n",
    "        e = round(Euclidean(values[i], targetPoint), 1)\n",
    "        avg.append({\"distance\":round((m+e)/2, 2), \"index\":i+1})\n",
    "        \n",
    "    return avg\n",
    "\n",
    "\n",
    "# features = [\"UAW\", \"UUCW\", \"TCF\", \"ECF\"]\n",
    "features = [\"SA\", \"AA\", \"CA\"]\n",
    "# features = []\n",
    "\n",
    "\n",
    "data = pd.read_csv(\"UCP-Plus-Simple.csv\")\n",
    "df = data.drop(features,axis=1)\n",
    "efforts = data[\"Effort\"]\n",
    "values = df.values.tolist()\n",
    "l = len(values)\n",
    "\n",
    "\n",
    "test = pd.read_csv(\"testData.csv\")\n",
    "testDF = test.drop(features,axis=1)\n",
    "testEfforts = testDF[\"Real_Effort\"]\n",
    "testData = testDF.values\n",
    "\n",
    "\n",
    "manDistances = PrintManhattan(testData[0])\n",
    "eucDistances = PrintEuclidean(testData[0])\n",
    "avgDistances = PrintAvg(testData[0])\n",
    "\n",
    "\n",
    "sortedManDistances = sorted(manDistances, key = lambda i: i['distance'])\n",
    "# PrintArray(i[\"distance\"] for i in avgDistances)\n",
    "sortedManDistances[:4]"
   ]
  },
  {
   "cell_type": "code",
   "execution_count": null,
   "id": "mature-cincinnati",
   "metadata": {},
   "outputs": [],
   "source": []
  },
  {
   "cell_type": "code",
   "execution_count": null,
   "id": "likely-thomas",
   "metadata": {},
   "outputs": [],
   "source": []
  }
 ],
 "metadata": {
  "kernelspec": {
   "display_name": "Python 3",
   "language": "python",
   "name": "python3"
  },
  "language_info": {
   "codemirror_mode": {
    "name": "ipython",
    "version": 3
   },
   "file_extension": ".py",
   "mimetype": "text/x-python",
   "name": "python",
   "nbconvert_exporter": "python",
   "pygments_lexer": "ipython3",
   "version": "3.9.5"
  }
 },
 "nbformat": 4,
 "nbformat_minor": 5
}
