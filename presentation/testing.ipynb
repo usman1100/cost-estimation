{
 "cells": [
  {
   "cell_type": "markdown",
   "metadata": {},
   "source": [
    "## Setup\n",
    "\n",
    "1. Importing libraries\n",
    "2. Creating utility methods"
   ]
  },
  {
   "cell_type": "code",
   "execution_count": 1,
   "metadata": {},
   "outputs": [],
   "source": [
    "import pandas as pd\n",
    "import math\n",
    "\n",
    "\n",
    "def ManhattanDistance(point_array_1:list, point_array_2:list):\n",
    "    \n",
    "    length_1 = len(point_array_1)\n",
    "    length_2 = len(point_array_2)\n",
    "\n",
    "    if length_2 != length_1:\n",
    "        raise Exception(\"The dimensions of given points are not equal\")\n",
    "    \n",
    "\n",
    "    else:\n",
    "        sum = 0\n",
    "        for i in range(length_1):\n",
    "            sum += abs(point_array_1[i] - point_array_2[i])\n",
    "        \n",
    "        return sum\n",
    "    \n",
    "def Euclidean(x:list, y:list):\n",
    "    distance = math.sqrt(sum([(a - b) ** 2 for a, b in zip(x, y)]))\n",
    "    return distance"
   ]
  },
  {
   "cell_type": "markdown",
   "metadata": {},
   "source": [
    "## Datasets\n",
    "\n",
    "1. Loading datasets\n",
    "2. Normaliznig datasets to use in models"
   ]
  },
  {
   "cell_type": "code",
   "execution_count": 2,
   "metadata": {},
   "outputs": [],
   "source": [
    "# Loading training dataset\n",
    "train_data_url = 'https://raw.githubusercontent.com/usman1100/cost-estimation/main/UCP-Plus.csv?token=AKHBQHR7EC4YAIW24WEAOBDBROTCE'\n",
    "data = pd.read_csv(train_data_url)\n",
    "df = data\n",
    "efforts = data[\"Effort\"] # Extracting effort column\n",
    "values = df.values.tolist() # Converting dataframe to list\n",
    "l = len(values) # Number of rows in the dataset\n",
    "\n",
    "\n",
    "test_data_url = \"https://raw.githubusercontent.com/usman1100/cost-estimation/main/testData.csv\"\n",
    "testDF = pd.read_csv(test_data_url) # Loading test dataset\n",
    "testEfforts = testDF[\"Real_Effort\"] # Extracting effort column\n",
    "\n",
    "testData = testDF.values.tolist() # Converting dataframe to list\n",
    "l_test = len(testData) # Number of rows in test dataset\n",
    "\n",
    "\n"
   ]
  },
  {
   "cell_type": "markdown",
   "metadata": {},
   "source": [
    "## Method for calulating closest analogies"
   ]
  },
  {
   "cell_type": "code",
   "execution_count": 3,
   "metadata": {},
   "outputs": [],
   "source": [
    "\n",
    "\n",
    "def getClosestCases(datapoint):\n",
    "    \n",
    "    manDistances = [] # List of manhattan distances\n",
    "    eucDistances = [] # List of euclidean distances\n",
    "    average = [] # List of average distances\n",
    "\n",
    "\n",
    "    for i in range(1, l):\n",
    "\n",
    "        # i-th point of the dataset\n",
    "        compared = values[i]\n",
    "\n",
    "\n",
    "        euc = Euclidean(datapoint, compared) # calculating euclidean distance\n",
    "        eucDistances.append({\"distance\":euc, \"index\":i}) # appending result to list\n",
    "\n",
    "\n",
    "        man = ManhattanDistance(datapoint, compared) # calculating manhattan distance\n",
    "        manDistances.append({\"distance\":man, \"index\":i}) # appending result to list\n",
    "\n",
    "\n",
    "        avg = (euc + man)/2 # calculating average of manhattan and euclidean distances\n",
    "        average.append({\"distance\":avg, \"index\":i}) # appending result to list\n",
    "\n",
    "    # Sorting all distances\n",
    "    average = sorted(average, key = lambda i: i['distance'])\n",
    "    manDistances = sorted(manDistances, key = lambda i: i['distance'])\n",
    "    eucDistances = sorted(eucDistances, key = lambda i: i['distance'])\n",
    "\n",
    "    # using the average of both distances\n",
    "    return average[:2]\n",
    "\n"
   ]
  },
  {
   "cell_type": "markdown",
   "metadata": {},
   "source": [
    "## Results of Test Data #1"
   ]
  },
  {
   "cell_type": "code",
   "execution_count": 4,
   "metadata": {},
   "outputs": [
    {
     "name": "stdout",
     "output_type": "stream",
     "text": [
      "Closest 2 Analogies\n",
      "Test Data Project #96\t -- Project Effort: 38.9\n",
      "Test Data Project #97\t -- Project Effort: 168.7\n"
     ]
    }
   ],
   "source": [
    "cases_1 = getClosestCases(testData[0])\n",
    "print(\"Closest 2 Analogies\")\n",
    "for case in cases_1:\n",
    "    print(\"Test Data Project #\" + str(case[\"index\"]) + \"\\t -- Project Effort: \" + str(round(case[\"distance\"], 1)))\n",
    "    "
   ]
  },
  {
   "cell_type": "markdown",
   "metadata": {},
   "source": [
    "## Results of Test Data #2"
   ]
  },
  {
   "cell_type": "code",
   "execution_count": 5,
   "metadata": {},
   "outputs": [
    {
     "name": "stdout",
     "output_type": "stream",
     "text": [
      "Closest 2 Analogies\n",
      "Test Data Project #88\t -- Project Effort: 125.8\n",
      "Test Data Project #72\t -- Project Effort: 126.7\n"
     ]
    }
   ],
   "source": [
    "cases_2 = getClosestCases(testData[1])\n",
    "print(\"Closest 2 Analogies\")\n",
    "for case in cases_2:\n",
    "    print(\"Test Data Project #\" + str(case[\"index\"]) + \"\\t -- Project Effort: \" + str(round(case[\"distance\"], 1)))\n",
    "    "
   ]
  },
  {
   "cell_type": "markdown",
   "metadata": {},
   "source": [
    "## Results of Test Data #3"
   ]
  },
  {
   "cell_type": "code",
   "execution_count": 6,
   "metadata": {},
   "outputs": [
    {
     "name": "stdout",
     "output_type": "stream",
     "text": [
      "Closest 2 Analogies\n",
      "Test Data Project #89\t -- Project Effort: 120.6\n",
      "Test Data Project #86\t -- Project Effort: 122.9\n"
     ]
    }
   ],
   "source": [
    "cases_3 = getClosestCases(testData[2])\n",
    "print(\"Closest 2 Analogies\")\n",
    "for case in cases_3:\n",
    "    print(\"Test Data Project #\" + str(case[\"index\"]) + \"\\t -- Project Effort: \" + str(round(case[\"distance\"], 1)))"
   ]
  },
  {
   "cell_type": "markdown",
   "metadata": {},
   "source": [
    "## Results of Test Data #4"
   ]
  },
  {
   "cell_type": "code",
   "execution_count": 7,
   "metadata": {},
   "outputs": [
    {
     "name": "stdout",
     "output_type": "stream",
     "text": [
      "Closest 2 Analogies\n",
      "Test Data Project #93\t -- Project Effort: 201.1\n",
      "Test Data Project #98\t -- Project Effort: 264.2\n"
     ]
    }
   ],
   "source": [
    "cases_4 = getClosestCases(testData[3])\n",
    "print(\"Closest 2 Analogies\")\n",
    "for case in cases_4:\n",
    "    print(\"Test Data Project #\" + str(case[\"index\"]) + \"\\t -- Project Effort: \" + str(round(case[\"distance\"], 1)))\n",
    "    "
   ]
  },
  {
   "cell_type": "markdown",
   "metadata": {},
   "source": []
  }
 ],
 "metadata": {
  "interpreter": {
   "hash": "6bdc15cb5aa224ffa3992d5e475234c47570bd199240bcd204ccca6323ed3dba"
  },
  "kernelspec": {
   "display_name": "Python 3.9.5 64-bit",
   "language": "python",
   "name": "python3"
  },
  "language_info": {
   "codemirror_mode": {
    "name": "ipython",
    "version": 3
   },
   "file_extension": ".py",
   "mimetype": "text/x-python",
   "name": "python",
   "nbconvert_exporter": "python",
   "pygments_lexer": "ipython3",
   "version": "3.9.5"
  },
  "orig_nbformat": 4
 },
 "nbformat": 4,
 "nbformat_minor": 2
}
